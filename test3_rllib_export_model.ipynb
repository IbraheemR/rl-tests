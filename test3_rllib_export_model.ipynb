{
 "cells": [
  {
   "cell_type": "code",
   "execution_count": 1,
   "metadata": {},
   "outputs": [
    {
     "name": "stderr",
     "output_type": "stream",
     "text": [
      "/home/ibraheem/miniconda3/envs/rllib/lib/python3.8/site-packages/tqdm/auto.py:22: TqdmWarning: IProgress not found. Please update jupyter and ipywidgets. See https://ipywidgets.readthedocs.io/en/stable/user_install.html\n",
      "  from .autonotebook import tqdm as notebook_tqdm\n"
     ]
    }
   ],
   "source": [
    "import ray\n",
    "from ray import tune\n",
    "from ray.rllib.agents.ppo import PPOTrainer\n",
    "from ray.rllib.agents.dqn import DQNTrainer\n",
    "from ray.rllib.agents.a3c import A3CTrainer, A2CTrainer\n",
    "from ray.tune.registry import register_env\n",
    "\n",
    "from collections import defaultdict\n",
    "import gym\n",
    "\n",
    "import imageio\n",
    "\n",
    "import tensorflow as tf"
   ]
  },
  {
   "cell_type": "markdown",
   "metadata": {},
   "source": [
    "Run tensorboard ... `tensorboard --logdir results`"
   ]
  },
  {
   "cell_type": "code",
   "execution_count": null,
   "metadata": {},
   "outputs": [],
   "source": [
    "class IterationOrRewardStopper(tune.Stopper):\n",
    "    def __init__(self, max_iterations=10000, target_reward=100, reward_window=100):\n",
    "        self._max_iterations = max_iterations\n",
    "        self._target_reward = target_reward\n",
    "        self._reward_window = reward_window\n",
    "\n",
    "        self._iter = defaultdict(lambda: 0)\n",
    "        self._rewards = defaultdict(lambda: [])\n",
    "\n",
    "    def __call__(self, trial_id, result):\n",
    "        self._iter[trial_id] += 1\n",
    "\n",
    "        if self._iter[trial_id] >= self._max_iterations:\n",
    "            return True\n",
    "        \n",
    "        self._rewards[trial_id].append(result[\"episode_reward_mean\"])\n",
    "        if len(self._rewards[trial_id]) > self._reward_window:\n",
    "            self._rewards[trial_id].pop(0)\n",
    "\n",
    "        if sum(self._rewards[trial_id]) >= self._target_reward * self._reward_window:\n",
    "            return True\n",
    "\n",
    "    def stop_all(self):\n",
    "        return False"
   ]
  },
  {
   "cell_type": "code",
   "execution_count": null,
   "metadata": {},
   "outputs": [],
   "source": [
    "experiments = []"
   ]
  },
  {
   "cell_type": "code",
   "execution_count": null,
   "metadata": {},
   "outputs": [],
   "source": [
    "experiments.append(\n",
    "    tune.Experiment(\n",
    "        name=\"ppo_cartpole_restore_test\",\n",
    "        run=PPOTrainer,\n",
    "        config={\n",
    "            \"env\": \"CartPole-v1\",\n",
    "            \"framework\": \"torch\",\n",
    "        },\n",
    "        local_dir=\"./results\",\n",
    "        stop=IterationOrRewardStopper(target_reward=475, reward_window=100),\n",
    "\n",
    "        checkpoint_at_end=True,\n",
    "    )\n",
    ")"
   ]
  },
  {
   "cell_type": "code",
   "execution_count": null,
   "metadata": {},
   "outputs": [],
   "source": [
    "experiment_results = tune.run_experiments(\n",
    "    experiments\n",
    ")"
   ]
  },
  {
   "cell_type": "code",
   "execution_count": null,
   "metadata": {},
   "outputs": [],
   "source": [
    "checkpoint_path = \"/home/ibraheem/Desktop/tf-angents-tests/results/ppo_cartpole_restore_test/PPOTrainer_CartPole-v1_3ff75_00000_0_2022-07-30_15-52-36/checkpoint_000166/checkpoint-166\" #experiment_results[0].checkpoint.value"
   ]
  },
  {
   "cell_type": "markdown",
   "metadata": {},
   "source": [
    "# Load model as RLlib Trainer"
   ]
  },
  {
   "cell_type": "code",
   "execution_count": null,
   "metadata": {},
   "outputs": [],
   "source": [
    "eval_env = gym.make(\"CartPole-v1\")\n",
    "\n",
    "eval_trainer = PPOTrainer(\n",
    "    env=\"CartPole-v1\",\n",
    "    config={\n",
    "        \"framework\": \"torch\",\n",
    "    }\n",
    ")\n",
    "\n",
    "eval_trainer.restore(checkpoint_path)\n"
   ]
  },
  {
   "cell_type": "code",
   "execution_count": null,
   "metadata": {},
   "outputs": [],
   "source": [
    "with imageio.get_writer(f\"videos/cartpole_restore_test.mp4\", fps=30) as video:\n",
    "    observation = eval_env.reset()\n",
    "    video.append_data(eval_env.render(\"rgb_array\"))\n",
    "    for i in range(500):\n",
    "        action = eval_trainer.compute_single_action(observation)\n",
    "        observation, reward, done, info = eval_env.step(action)\n",
    "        video.append_data(eval_env.render(\"rgb_array\"))\n",
    "        if done:\n",
    "            break"
   ]
  },
  {
   "cell_type": "markdown",
   "metadata": {},
   "source": [
    "# Export and load the model as pytorch model"
   ]
  },
  {
   "cell_type": "code",
   "execution_count": 2,
   "metadata": {},
   "outputs": [],
   "source": [
    "EXPORT_DIR = \"tf_export/ppo_cartpole_restore_test\""
   ]
  },
  {
   "cell_type": "code",
   "execution_count": 3,
   "metadata": {},
   "outputs": [
    {
     "ename": "NameError",
     "evalue": "name 'eval_trainer' is not defined",
     "output_type": "error",
     "traceback": [
      "\u001b[0;31m---------------------------------------------------------------------------\u001b[0m",
      "\u001b[0;31mNameError\u001b[0m                                 Traceback (most recent call last)",
      "\u001b[1;32m/home/ibraheem/Desktop/tf-angents-tests/test3_rllib_export_model.ipynb Cell 13\u001b[0m in \u001b[0;36m<cell line: 1>\u001b[0;34m()\u001b[0m\n\u001b[0;32m----> <a href='vscode-notebook-cell:/home/ibraheem/Desktop/tf-angents-tests/test3_rllib_export_model.ipynb#ch0000012?line=0'>1</a>\u001b[0m eval_trainer\u001b[39m.\u001b[39mexport_policy_model(EXPORT_DIR)\n",
      "\u001b[0;31mNameError\u001b[0m: name 'eval_trainer' is not defined"
     ]
    }
   ],
   "source": [
    "\n",
    "eval_trainer.export_policy_model(EXPORT_DIR)"
   ]
  },
  {
   "cell_type": "code",
   "execution_count": 59,
   "metadata": {},
   "outputs": [],
   "source": [
    "eval_model_tf = tf.saved_model.load(EXPORT_DIR).signatures[\"serving_default\"]\n",
    "\n",
    "def eval_model_tf_with_sess(obs, sess):\n",
    "    actions = eval_model_tf(\n",
    "        is_training=tf.convert_to_tensor(False),\n",
    "        observations=tf.convert_to_tensor(obs, dtype=tf.float32),\n",
    "        timestep=tf.convert_to_tensor(0, dtype=tf.int32),\n",
    "    )\n",
    "\n",
    "    return sess.run(actions[\"actions_0\"])\n"
   ]
  },
  {
   "cell_type": "code",
   "execution_count": 63,
   "metadata": {},
   "outputs": [
    {
     "ename": "NameError",
     "evalue": "name 'obs' is not defined",
     "output_type": "error",
     "traceback": [
      "\u001b[0;31m---------------------------------------------------------------------------\u001b[0m",
      "\u001b[0;31mNameError\u001b[0m                                 Traceback (most recent call last)",
      "\u001b[1;32m/home/ibraheem/Desktop/tf-angents-tests/test3_rllib_export_model.ipynb Cell 15\u001b[0m in \u001b[0;36m<cell line: 1>\u001b[0;34m()\u001b[0m\n\u001b[1;32m      <a href='vscode-notebook-cell:/home/ibraheem/Desktop/tf-angents-tests/test3_rllib_export_model.ipynb#ch0000020?line=0'>1</a>\u001b[0m \u001b[39mwith\u001b[39;00m tf\u001b[39m.\u001b[39mcompat\u001b[39m.\u001b[39mv1\u001b[39m.\u001b[39mSession() \u001b[39mas\u001b[39;00m sess:\n\u001b[1;32m      <a href='vscode-notebook-cell:/home/ibraheem/Desktop/tf-angents-tests/test3_rllib_export_model.ipynb#ch0000020?line=1'>2</a>\u001b[0m     tf\u001b[39m.\u001b[39mcompat\u001b[39m.\u001b[39mv1\u001b[39m.\u001b[39minitialize_all_variables()\u001b[39m.\u001b[39mrun()\n\u001b[1;32m      <a href='vscode-notebook-cell:/home/ibraheem/Desktop/tf-angents-tests/test3_rllib_export_model.ipynb#ch0000020?line=3'>4</a>\u001b[0m     actions \u001b[39m=\u001b[39m eval_model_tf(\n\u001b[1;32m      <a href='vscode-notebook-cell:/home/ibraheem/Desktop/tf-angents-tests/test3_rllib_export_model.ipynb#ch0000020?line=4'>5</a>\u001b[0m         is_training\u001b[39m=\u001b[39mtf\u001b[39m.\u001b[39mconvert_to_tensor(\u001b[39mFalse\u001b[39;00m),\n\u001b[0;32m----> <a href='vscode-notebook-cell:/home/ibraheem/Desktop/tf-angents-tests/test3_rllib_export_model.ipynb#ch0000020?line=5'>6</a>\u001b[0m         observations\u001b[39m=\u001b[39mtf\u001b[39m.\u001b[39mconvert_to_tensor([obs], dtype\u001b[39m=\u001b[39mtf\u001b[39m.\u001b[39mfloat32),\n\u001b[1;32m      <a href='vscode-notebook-cell:/home/ibraheem/Desktop/tf-angents-tests/test3_rllib_export_model.ipynb#ch0000020?line=6'>7</a>\u001b[0m         timestep\u001b[39m=\u001b[39mtf\u001b[39m.\u001b[39mconvert_to_tensor(\u001b[39m0\u001b[39m, dtype\u001b[39m=\u001b[39mtf\u001b[39m.\u001b[39mint32),\n\u001b[1;32m      <a href='vscode-notebook-cell:/home/ibraheem/Desktop/tf-angents-tests/test3_rllib_export_model.ipynb#ch0000020?line=7'>8</a>\u001b[0m     )\n\u001b[1;32m     <a href='vscode-notebook-cell:/home/ibraheem/Desktop/tf-angents-tests/test3_rllib_export_model.ipynb#ch0000020?line=9'>10</a>\u001b[0m     \u001b[39mprint\u001b[39m(sess\u001b[39m.\u001b[39mrun(actions[\u001b[39m\"\u001b[39m\u001b[39mactions_0\u001b[39m\u001b[39m\"\u001b[39m]))\n",
      "\u001b[0;31mNameError\u001b[0m: name 'obs' is not defined"
     ]
    }
   ],
   "source": [
    "with tf.compat.v1.Session() as sess:\n",
    "    tf.compat.v1.initialize_all_variables().run()\n",
    "\n",
    "    actions = eval_model_tf(\n",
    "        is_training=tf.convert_to_tensor(False),\n",
    "        observations=tf.convert_to_tensor([[0, 0, 0.1, 0]], dtype=tf.float32),\n",
    "        timestep=tf.convert_to_tensor(0, dtype=tf.int32),\n",
    "    )\n",
    "\n",
    "    print(sess.run(actions[\"actions_0\"]))"
   ]
  },
  {
   "cell_type": "code",
   "execution_count": 61,
   "metadata": {},
   "outputs": [],
   "source": [
    "eval_env_tf = gym.make(\"CartPole-v1\")"
   ]
  },
  {
   "cell_type": "code",
   "execution_count": 64,
   "metadata": {},
   "outputs": [
    {
     "ename": "",
     "evalue": "",
     "output_type": "error",
     "traceback": [
      "\u001b[1;31mThe Kernel crashed while executing code in the the current cell or a previous cell. Please review the code in the cell(s) to identify a possible cause of the failure. Click <a href='https://aka.ms/vscodeJupyterKernelCrash'>here</a> for more info. View Jupyter <a href='command:jupyter.viewOutput'>log</a> for further details."
     ]
    },
    {
     "ename": "",
     "evalue": "",
     "output_type": "error",
     "traceback": [
      "\u001b[1;31mCanceled future for execute_request message before replies were done"
     ]
    }
   ],
   "source": [
    "with imageio.get_writer(f\"videos/cartpole_restore_test_tf.mp4\", fps=30) as video, \\\n",
    "    tf.compat.v1.Session() as sess:\n",
    "\n",
    "    tf.compat.v1.initialize_all_variables().run()\n",
    "\n",
    "    observation = eval_env_tf.reset()\n",
    "    video.append_data(eval_env_tf.render(\"rgb_array\"))\n",
    "    for i in range(500):\n",
    "        action = eval_model_tf_with_sess(observation, sess)\n",
    "        observation, reward, done, info = eval_env_tf.step(action)\n",
    "        video.append_data(eval_env_tf.render(\"rgb_array\"))\n",
    "        if done:\n",
    "            break"
   ]
  }
 ],
 "metadata": {
  "kernelspec": {
   "display_name": "Python 3.8.13 ('rllib')",
   "language": "python",
   "name": "python3"
  },
  "language_info": {
   "codemirror_mode": {
    "name": "ipython",
    "version": 3
   },
   "file_extension": ".py",
   "mimetype": "text/x-python",
   "name": "python",
   "nbconvert_exporter": "python",
   "pygments_lexer": "ipython3",
   "version": "3.8.13"
  },
  "orig_nbformat": 4,
  "vscode": {
   "interpreter": {
    "hash": "e4696ef454f56e1321b5473c6d4b0148f4af87412dc47138694c27d2793afd11"
   }
  }
 },
 "nbformat": 4,
 "nbformat_minor": 2
}
